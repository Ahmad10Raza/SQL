{
 "cells": [
  {
   "cell_type": "markdown",
   "metadata": {},
   "source": [
    "#  Explain constraints and its types?"
   ]
  },
  {
   "cell_type": "markdown",
   "metadata": {},
   "source": [
    "In SQL, constraints are rules applied to data columns in a table. They ensure the reliability and accuracy of the data. Constraints can be applied at the column level or table level.\n",
    "\n",
    "Here are the main types of constraints in SQL:\n",
    "\n",
    "1. **NOT NULL Constraint**: Ensures that a column cannot have a NULL value.\n",
    "\n",
    "2. **UNIQUE Constraint**: Ensures that all values in a column are different.\n",
    "\n",
    "3. **PRIMARY KEY Constraint**: Uniquely identifies each record in a database table. Primary keys must contain unique values and cannot be NULL.\n",
    "\n",
    "4. **FOREIGN KEY Constraint**: Uniquely identifies a row/record in any of the given database table. It is used to prevent actions that would destroy links between tables.\n",
    "\n",
    "5. **CHECK Constraint**: The CHECK constraint ensures that all values in a column satisfy certain conditions.\n",
    "\n",
    "6. **DEFAULT Constraint**: Provides a default value for a column when none is specified.\n",
    "\n",
    "7. **INDEX Constraint**: Used to create and retrieve data from the database very quickly.\n",
    "\n",
    "Here's an example of how these constraints might be used in SQL:\n",
    "\n"
   ]
  },
  {
   "cell_type": "code",
   "execution_count": null,
   "metadata": {
    "vscode": {
     "languageId": "sql"
    }
   },
   "outputs": [],
   "source": [
    "CREATE TABLE Employees (\n",
    "    ID int NOT NULL,\n",
    "    LastName varchar(255) NOT NULL,\n",
    "    FirstName varchar(255),\n",
    "    Age int CHECK (Age>=18),\n",
    "    City varchar(255) DEFAULT 'Unknown',\n",
    "    PRIMARY KEY (ID)\n",
    ");"
   ]
  },
  {
   "cell_type": "markdown",
   "metadata": {},
   "source": [
    "\n",
    "\n",
    "In this example, the ID column is the primary key column and cannot contain NULL. The Age column must be at least 18, and if no City is specified, the DEFAULT 'Unknown' will be used."
   ]
  },
  {
   "cell_type": "markdown",
   "metadata": {},
   "source": [
    "# Explain integrity constraints."
   ]
  },
  {
   "cell_type": "markdown",
   "metadata": {},
   "source": [
    "Integrity constraints are rules that help ensure the quality and accuracy of the information in a database. They enforce the business rules associated with a database and prevent the entry of invalid information into tables. There are three main types of integrity constraints:\n",
    "\n",
    "1. **Domain Integrity**: This ensures that all entries for a given column are of the same kind and within the specified domain. For example, a column storing age values should only accept integers.\n",
    "\n",
    "2. **Entity Integrity**: This ensures that each row or record in a table is unique. This is typically enforced using a primary key constraint, which requires that each record has a unique identifier.\n",
    "\n",
    "3. **Referential Integrity**: This ensures that relationships between tables remain consistent. This is typically enforced using foreign key constraints. For example, if a table has a foreign key that references the primary key of another table, the database won't allow you to add a record unless there's a corresponding record in the linked table.\n",
    "\n",
    "These constraints are crucial for maintaining the accuracy and consistency of data in a relational database."
   ]
  }
 ],
 "metadata": {
  "language_info": {
   "name": "python"
  }
 },
 "nbformat": 4,
 "nbformat_minor": 2
}
